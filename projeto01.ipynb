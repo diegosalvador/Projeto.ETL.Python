{
 "cells": [
  {
   "cell_type": "code",
   "execution_count": null,
   "id": "1dedd991-bca8-41ed-b78b-b38c9384b165",
   "metadata": {},
   "outputs": [],
   "source": [
    "Santander Dev Week 2023 (ETL com Python)\n",
    "\n",
    "projeto ELT com python utilizando, planilhas locais."
   ]
  },
  {
   "cell_type": "raw",
   "id": "99ff23e8-a5de-4b49-b48d-95dc6b3611cb",
   "metadata": {},
   "source": [
    "Extração \n",
    "Extraia a lista de IDs de usuário a partir do arquivo CSV. Para cada ID, faça uma requisição GET para obter os dados do usuário correspondente."
   ]
  },
  {
   "cell_type": "code",
   "execution_count": 13,
   "id": "eb6344de-7813-4c9e-8b0b-6cad8587b3e4",
   "metadata": {},
   "outputs": [],
   "source": [
    "import pandas as pd"
   ]
  },
  {
   "cell_type": "code",
   "execution_count": 30,
   "id": "fe8c4a5a-f5c9-4e38-a359-16409fe8fb78",
   "metadata": {},
   "outputs": [],
   "source": [
    "dados_locais = pd.read_csv('SWD23.csv')\n",
    "#ler os dados do cabeçalhos\n"
   ]
  },
  {
   "cell_type": "code",
   "execution_count": 32,
   "id": "5f02572b-d33f-4e7f-b7c7-1166cff0ee9b",
   "metadata": {},
   "outputs": [
    {
     "name": "stdout",
     "output_type": "stream",
     "text": [
      "[\"'ID001'\", \"'ID002'\", \"'ID003'\", \"'ID004'\", \"'ID005'\", \"'ID006'\", \"'ID007'\", \"'ID008'\", \"'ID009'\"]\n"
     ]
    }
   ],
   "source": [
    "dados_locais.head()\n",
    "#dados_locais[\"UserID\"]\n",
    "user_ids = dados_locais['UserID'].tolist()\n",
    "print(user_ids)"
   ]
  },
  {
   "cell_type": "raw",
   "id": "db399b18-8e06-4a77-b3e5-6e0555f2e550",
   "metadata": {},
   "source": [
    "! pip install Flask\n",
    "api usuario radando localmente!\n",
    "\"usuario-server-api.py\"\n",
    "ara funcionalidade dos codigos abaixo!\n"
   ]
  },
  {
   "cell_type": "code",
   "execution_count": 64,
   "id": "3dc29e96-16b0-45ea-b3a9-ca533735e62e",
   "metadata": {
    "scrolled": true
   },
   "outputs": [
    {
     "name": "stdout",
     "output_type": "stream",
     "text": [
      "{'ID': 'ID001', 'Mensagem': 'Acredite em você e em suas habilidades!', 'Nome': 'João', 'Perfil': 'Administrador', 'UserID': 1}\n",
      "{'ID': 'ID002', 'Mensagem': 'O sucesso começa com a determinação.', 'Nome': 'Maria', 'Perfil': 'Usuário', 'UserID': 2}\n",
      "{'ID': 'ID003', 'Mensagem': 'Você é capaz de superar qualquer desafio.', 'Nome': 'Carlos', 'Perfil': 'Moderador', 'UserID': 3}\n",
      "{'ID': 'ID004', 'Mensagem': 'Lembre-se de que cada dia é uma nova oportunidade.', 'Nome': 'Ana', 'Perfil': 'Usuário', 'UserID': 4}\n",
      "{'ID': 'ID005', 'Mensagem': 'Nunca subestime seu próprio potencial.', 'Nome': 'Pedro', 'Perfil': 'Convidado', 'UserID': 5}\n"
     ]
    }
   ],
   "source": [
    "import requests\n",
    "def get_users(id):\n",
    "    response = requests.get(f'({http://127.0.0.1:5000}/usuarios/{Nome })')\n",
    "    data = response.json() \n",
    "\n",
    "for usuario in data:\n",
    "    print(usuario)\n",
    "\n",
    "    \n",
    "    "
   ]
  },
  {
   "cell_type": "markdown",
   "id": "68a99c14-4369-4ab7-a981-4fe9295061bf",
   "metadata": {},
   "source": [
    "TRANSFORMAR DADOS \n"
   ]
  },
  {
   "cell_type": "code",
   "execution_count": null,
   "id": "82bcdb58-cebd-487f-b602-e63c1245b99d",
   "metadata": {},
   "outputs": [],
   "source": []
  },
  {
   "cell_type": "code",
   "execution_count": null,
   "id": "d6205a24-d821-451b-8d78-4ddf2d62be94",
   "metadata": {},
   "outputs": [],
   "source": []
  },
  {
   "cell_type": "code",
   "execution_count": null,
   "id": "030b180c-a71a-48af-b62e-a169f12cc3bb",
   "metadata": {},
   "outputs": [],
   "source": []
  }
 ],
 "metadata": {
  "kernelspec": {
   "display_name": "Python 3 (ipykernel)",
   "language": "python",
   "name": "python3"
  },
  "language_info": {
   "codemirror_mode": {
    "name": "ipython",
    "version": 3
   },
   "file_extension": ".py",
   "mimetype": "text/x-python",
   "name": "python",
   "nbconvert_exporter": "python",
   "pygments_lexer": "ipython3",
   "version": "3.11.5"
  }
 },
 "nbformat": 4,
 "nbformat_minor": 5
}
