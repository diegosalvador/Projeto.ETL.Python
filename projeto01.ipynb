{
 "cells": [
  {
   "cell_type": "markdown",
   "id": "81ec1957-cc9a-419f-9128-820603cd01d4",
   "metadata": {},
   "source": [
    "Santander Dev Week 2023 (ETL com Python)\n",
    "\n",
    "Projeto ELT com python utilizando, planilhas locais.\n",
    "Projeto com a proposta de enviar mensagens motivacionais para os usuarios!"
   ]
  },
  {
   "cell_type": "raw",
   "id": "99ff23e8-a5de-4b49-b48d-95dc6b3611cb",
   "metadata": {},
   "source": [
    "Extração \n",
    "Extraia a lista de IDs de usuário a partir do arquivo CSV. Para cada ID, faça uma requisição GET para obter os dados do usuário correspondente."
   ]
  },
  {
   "cell_type": "code",
   "execution_count": 66,
   "id": "eb6344de-7813-4c9e-8b0b-6cad8587b3e4",
   "metadata": {},
   "outputs": [],
   "source": [
    "#!pip install pandas\n",
    "import pandas as pd"
   ]
  },
  {
   "cell_type": "code",
   "execution_count": 67,
   "id": "fe8c4a5a-f5c9-4e38-a359-16409fe8fb78",
   "metadata": {
    "editable": true,
    "scrolled": true,
    "slideshow": {
     "slide_type": ""
    },
    "tags": []
   },
   "outputs": [],
   "source": [
    "dados_locais = pd.read_csv('SWD23.csv')\n",
    "#ler os dados do cabeçalhos\n"
   ]
  },
  {
   "cell_type": "code",
   "execution_count": 68,
   "id": "5f02572b-d33f-4e7f-b7c7-1166cff0ee9b",
   "metadata": {
    "editable": true,
    "scrolled": true,
    "slideshow": {
     "slide_type": "slide"
    },
    "tags": []
   },
   "outputs": [
    {
     "name": "stdout",
     "output_type": "stream",
     "text": [
      "[\"'ID001'\", \"'ID002'\", \"'ID003'\", \"'ID004'\", \"'ID005'\", \"'ID006'\", \"'ID007'\", \"'ID008'\", \"'ID009'\"]\n"
     ]
    }
   ],
   "source": [
    "# leitura dos dados de uma planilha local.\n",
    "dados_locais.head()\n",
    "user_ids = dados_locais['UserID'].tolist()\n",
    "print(user_ids)"
   ]
  },
  {
   "cell_type": "raw",
   "id": "db399b18-8e06-4a77-b3e5-6e0555f2e550",
   "metadata": {
    "editable": true,
    "raw_mimetype": "",
    "slideshow": {
     "slide_type": ""
    },
    "tags": []
   },
   "source": [
    "! pip install Flask\n",
    "api usuario radando localmente!\n",
    "\"usuario-server-api.py\"\n",
    "Para funcionalidade dos codigos abaixo!\n"
   ]
  },
  {
   "cell_type": "code",
   "execution_count": 177,
   "id": "4eae98d1-0c42-4e1c-af9c-a0b66b31da90",
   "metadata": {},
   "outputs": [
    {
     "name": "stdout",
     "output_type": "stream",
     "text": [
      "{'ID': 'ID001', 'Mensagem': 'Acredite em você e em suas habilidades!', 'Nome': 'jose pereira', 'Perfil': 'Administrador', 'UserID': 1}\n",
      "{'ID': 'ID002', 'Mensagem': 'O sucesso começa com a determinação.', 'Nome': 'Maria', 'Perfil': 'Usuário', 'UserID': 2}\n",
      "{'ID': 'ID003', 'Mensagem': 'Você é capaz de superar qualquer desafio.', 'Nome': 'Carlos', 'Perfil': 'Moderador', 'UserID': 3}\n",
      "{'ID': 'ID004', 'Mensagem': 'Lembre-se de que cada dia é uma nova oportunidade.', 'Nome': 'Ana', 'Perfil': 'Usuário', 'UserID': 4}\n",
      "{'ID': 'ID005', 'Mensagem': 'Nunca subestime seu próprio potencial.', 'Nome': 'Pedro', 'Perfil': 'Convidado', 'UserID': 5}\n",
      "{'ID': 'ID006', 'Mensagem': 'Seja seu melhor.', 'Nome': 'João Silva', 'Perfil': 'formatador de PC', 'UserID': 6}\n"
     ]
    }
   ],
   "source": [
    "# teste do metodo GET\n",
    "import requests\n",
    "\n",
    "response = requests.get('http://localhost:5000/usuarios')\n",
    "busca_user = response.json()\n",
    "\n",
    "for usuario in busca_user:\n",
    "        print(usuario)"
   ]
  },
  {
   "cell_type": "code",
   "execution_count": 121,
   "id": "3e1dc999-4370-41f6-b779-b3aee96894a6",
   "metadata": {
    "editable": true,
    "scrolled": true,
    "slideshow": {
     "slide_type": "slide"
    },
    "tags": []
   },
   "outputs": [
    {
     "name": "stdout",
     "output_type": "stream",
     "text": [
      "Nome: João\n",
      "Perfil: Administrador\n",
      "Mensagem: Acredite em você e em suas habilidades!\n",
      "\n",
      "Nome: Maria\n",
      "Perfil: Usuário\n",
      "Mensagem: O sucesso começa com a determinação.\n",
      "\n",
      "Nome: Carlos\n",
      "Perfil: Moderador\n",
      "Mensagem: Você é capaz de superar qualquer desafio.\n",
      "\n",
      "Nome: Ana\n",
      "Perfil: Usuário\n",
      "Mensagem: Lembre-se de que cada dia é uma nova oportunidade.\n",
      "\n",
      "Nome: Pedro\n",
      "Perfil: Convidado\n",
      "Mensagem: Nunca subestime seu próprio potencial.\n",
      "\n"
     ]
    }
   ],
   "source": [
    "#metodo get com função \n",
    "import requests\n",
    "def get_users(id):\n",
    "    response = requests.get(f\"({http://127.0.0.1:5000}/usuarios/{UserID })\")\n",
    "    busca_user = response.json() \n",
    "\n",
    "for usuario in busca_user:\n",
    "    print(usuario)\n",
    "    print(f\"Nome: {usuario['Nome']}\")\n",
    "    print(f\"Perfil: {usuario['Perfil']}\")\n",
    "    print(f\"Mensagem: {usuario['Mensagem']}\")\n",
    "    print()  # Linha em branco entre os usuários"
   ]
  },
  {
   "cell_type": "markdown",
   "id": "bcc9e654-fabe-41ce-bba0-3208b3fa9750",
   "metadata": {},
   "source": [
    "Transformado dados em mensagem organizada!\n"
   ]
  },
  {
   "cell_type": "code",
   "execution_count": 176,
   "id": "aee68436-b681-4f7d-ad13-805bbbd03757",
   "metadata": {},
   "outputs": [
    {
     "name": "stdout",
     "output_type": "stream",
     "text": [
      "Nome: jose pereira\n",
      "Perfil: Administrador\n",
      "Mensagem: Acredite em você e em suas habilidades!\n",
      "\n",
      "Nome: Maria\n",
      "Perfil: Usuário\n",
      "Mensagem: O sucesso começa com a determinação.\n",
      "\n",
      "Nome: Carlos\n",
      "Perfil: Moderador\n",
      "Mensagem: Você é capaz de superar qualquer desafio.\n",
      "\n",
      "Nome: Ana\n",
      "Perfil: Usuário\n",
      "Mensagem: Lembre-se de que cada dia é uma nova oportunidade.\n",
      "\n",
      "Nome: Pedro\n",
      "Perfil: Convidado\n",
      "Mensagem: Nunca subestime seu próprio potencial.\n",
      "\n",
      "Nome: João Silva\n",
      "Perfil: formatador de PC\n",
      "Mensagem: Seja seu melhor.\n",
      "\n"
     ]
    }
   ],
   "source": [
    "# Organizado as Mensagem final.\n",
    "import requests\n",
    "\n",
    "def obter_usuarios_e_mensagens():\n",
    "    try:\n",
    "        response = requests.get('http://localhost:5000/usuarios')\n",
    "        response.raise_for_status()  # Verificar se a resposta é bem-sucedida\n",
    "\n",
    "        busca_user = response.json()\n",
    "\n",
    "        for usuario in busca_user:\n",
    "            print(f\"Nome: {usuario['Nome']}\")\n",
    "            print(f\"Perfil: {usuario['Perfil']}\")\n",
    "            print(f\"Mensagem: {usuario['Mensagem']}\")\n",
    "            print()  # Linha em branco entre os usuários\n",
    "\n",
    "    except requests.exceptions.RequestException as e:\n",
    "       print(f\"Erro na solicitação HTTP: {e}\")\n",
    "\n",
    "if __name__ == '__main__':\n",
    "    obter_usuarios_e_mensagens()"
   ]
  },
  {
   "cell_type": "code",
   "execution_count": 175,
   "id": "bc889330-21ae-41ae-aaba-336553109963",
   "metadata": {},
   "outputs": [
    {
     "name": "stdout",
     "output_type": "stream",
     "text": [
      "Nome: João\n",
      "Perfil: Administrador\n",
      "Mensagem: Acredite em você e em suas habilidades!\n",
      "\n",
      "Nome: Maria\n",
      "Perfil: Usuário\n",
      "Mensagem: O sucesso começa com a determinação.\n",
      "\n",
      "Nome: Carlos\n",
      "Perfil: Moderador\n",
      "Mensagem: Você é capaz de superar qualquer desafio.\n",
      "\n",
      "Nome: Ana\n",
      "Perfil: Usuário\n",
      "Mensagem: Lembre-se de que cada dia é uma nova oportunidade.\n",
      "\n",
      "Nome: Pedro\n",
      "Perfil: Convidado\n",
      "Mensagem: Nunca subestime seu próprio potencial.\n",
      "\n"
     ]
    }
   ],
   "source": [
    "#metodo get com função \n",
    "import requests\n",
    "def get_users(id):\n",
    "    response = requests.get(f\"({http://localhost:5000}/usuarios/{UseID})\")\n",
    "    busca_user = response.json() \n",
    "\n",
    "for usuario in busca_user:\n",
    "    print(f\"Nome: {usuario['Nome']}\")\n",
    "    print(f\"Perfil: {usuario['Perfil']}\")\n",
    "    print(f\"Mensagem: {usuario['Mensagem']}\")\n",
    "    print()  # Linha em branco entre os usuários"
   ]
  },
  {
   "cell_type": "markdown",
   "id": "e3089cae-7d4e-4647-86ff-3d5ce058a44e",
   "metadata": {},
   "source": [
    "final \n",
    "\n",
    "Método PUT!\n",
    "\n"
   ]
  },
  {
   "cell_type": "code",
   "execution_count": 169,
   "id": "9a7185cb-dc33-4891-98c1-4f68196ba106",
   "metadata": {},
   "outputs": [
    {
     "name": "stdout",
     "output_type": "stream",
     "text": [
      "dados Enviados\n"
     ]
    }
   ],
   "source": [
    "import requests\n",
    "\n",
    "def put_user(id):\n",
    "    try:\n",
    "        response = requests.put(f\"http://localhost:5000/usuarios/{UserID}\")\n",
    "        response.raise_for_status()  # Verificar se a resposta é bem-sucedida\n",
    "\n",
    "        print(\"Usuário atualizado com sucesso!\")\n",
    "\n",
    "    except requests.exceptions.RequestException as e:\n",
    "        print(f\"Erro na solicitação HTTP: {e}\")\n",
    "\n",
    "if __name__ == '__main__':\n",
    "    # Exemplo de dados a serem atualizados\n",
    "    user_id = 6\n",
    "    novos_dados = {\n",
    "        \"Nome\": \"velhonunga\",\n",
    "        \"Perfil\": \"usuario\",\n",
    "        \"Mensagem\": \"velho sem noção\"\n",
    "    }\n",
    "\n",
    "    #put_user(user_id,novos_dados)\n",
    "    print(\"dados Enviados\")\n"
   ]
  },
  {
   "cell_type": "code",
   "execution_count": 2,
   "id": "7abb5768-e508-4839-80a5-28ddb75bf9db",
   "metadata": {},
   "outputs": [
    {
     "name": "stdout",
     "output_type": "stream",
     "text": [
      "Solicitação PUT bem-sucedida!\n",
      "{'mensagem': 'Usuário atualizado com sucesso'}\n"
     ]
    }
   ],
   "source": [
    "import requests\n",
    "\n",
    "# URL da API e ID do usuário que você deseja atualizar\n",
    "url = \"http://localhost:5000/usuarios/7\"\n",
    "\n",
    "# Dados a serem atualizados ou incluídos\n",
    "dados_atualizados = {\n",
    "    \"Nome\": \"jose SOUZA\",\n",
    "    \"Perfil\": \"formatador de NOT\",\n",
    "    \"Mensagem\": \"Seja seu melhor2.\",\n",
    "    \"ID\": \"ID007\"\n",
    "}\n",
    "\n",
    "\n",
    "# Fazendo a solicitação PUT\n",
    "try:\n",
    "    response = requests.put(url, json=dados_atualizados)\n",
    "    response.raise_for_status()  # Verificar se a resposta é bem-sucedida\n",
    "\n",
    "    print(\"Solicitação PUT bem-sucedida!\")\n",
    "    print(response.json())  # Imprimir a resposta da API\n",
    "\n",
    "except requests.exceptions.RequestException as e:\n",
    "    print(f\"Erro na solicitação HTTP: {e}\")"
   ]
  },
  {
   "cell_type": "code",
   "execution_count": null,
   "id": "2dcc854c-2363-46ec-85bd-ca6f471c8ad1",
   "metadata": {},
   "outputs": [],
   "source": []
  }
 ],
 "metadata": {
  "kernelspec": {
   "display_name": "Python 3 (ipykernel)",
   "language": "python",
   "name": "python3"
  },
  "language_info": {
   "codemirror_mode": {
    "name": "ipython",
    "version": 3
   },
   "file_extension": ".py",
   "mimetype": "text/x-python",
   "name": "python",
   "nbconvert_exporter": "python",
   "pygments_lexer": "ipython3",
   "version": "3.11.5"
  }
 },
 "nbformat": 4,
 "nbformat_minor": 5
}
